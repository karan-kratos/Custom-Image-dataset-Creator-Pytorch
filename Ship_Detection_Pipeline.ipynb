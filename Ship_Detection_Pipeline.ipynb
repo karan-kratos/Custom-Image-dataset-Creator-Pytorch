{
 "cells": [
  {
   "cell_type": "code",
   "execution_count": 204,
   "metadata": {},
   "outputs": [],
   "source": [
    "import torch\n",
    "import torchvision\n",
    "from torchvision import transforms, datasets\n",
    "import os\n",
    "import cv2\n",
    "import matplotlib.pyplot as plt\n",
    "from torch.utils.data import Dataset, DataLoader\n",
    "import pandas as pd\n",
    "import matplotlib.image as mpimg\n",
    "from PIL import Image"
   ]
  },
  {
   "cell_type": "code",
   "execution_count": 113,
   "metadata": {},
   "outputs": [],
   "source": [
    "train_dir = '/home/karan/python/analytics_vidhya/train/'"
   ]
  },
  {
   "cell_type": "code",
   "execution_count": null,
   "metadata": {},
   "outputs": [],
   "source": [
    "image = cv2.imread(train_dir+'/1/'+ )"
   ]
  },
  {
   "cell_type": "code",
   "execution_count": 329,
   "metadata": {},
   "outputs": [
    {
     "data": {
      "text/plain": [
       "6252"
      ]
     },
     "execution_count": 329,
     "metadata": {},
     "output_type": "execute_result"
    }
   ],
   "source": [
    "class ImageDataset(Dataset):\n",
    "    \n",
    "    def __init__(self, csv_file, root_dir, transform = None):\n",
    "        self.class_labels = pd.read_csv('train.csv')\n",
    "        self.root_dir = root_dir\n",
    "        self.transform = transform\n",
    "        \n",
    "    def __len__(self):\n",
    "        return len(self.class_labels)\n",
    "    \n",
    "    def __getitem__(self, idx):\n",
    "        image_name = os.path.join(self.root_dir, self.class_labels.iloc[idx, 0])\n",
    "        image = Image.open(image_name) \n",
    "        labels = self.class_labels.iloc[idx, 1]\n",
    "        labels = np.array([labels])\n",
    "        labels = torch.from_numpy(labels)\n",
    "        sample = {'image': image, 'labels' : labels, 'image_name' : self.class_labels.iloc[idx, 0]}\n",
    "        if self.transform:\n",
    "            sample['image'] = self.transform(sample['image'])\n",
    "            \n",
    "        return sample\n",
    "\n",
    "data_transform = transforms.Compose([transforms.Resize((128,128)), transforms.RandomCrop((124,124)), transforms.ToTensor()])\n",
    "transformed_dataset = ImageDataset('train.csv', train_dir, data_transform)\n",
    "len(transformed_dataset)"
   ]
  },
  {
   "cell_type": "code",
   "execution_count": 333,
   "metadata": {},
   "outputs": [
    {
     "name": "stdout",
     "output_type": "stream",
     "text": [
      "0 torch.Size([3, 124, 124]) torch.Size([1]) 2823080.jpg\n",
      "1 torch.Size([3, 124, 124]) torch.Size([1]) 2870024.jpg\n",
      "2 torch.Size([3, 124, 124]) torch.Size([1]) 2662125.jpg\n",
      "3 torch.Size([3, 124, 124]) torch.Size([1]) 2900420.jpg\n"
     ]
    }
   ],
   "source": [
    "for i in range(4):\n",
    "    sample = transformed_dataset[i]\n",
    "    print(i, sample['image'].size(), sample['labels'].shape, sample['image_name'])"
   ]
  },
  {
   "cell_type": "code",
   "execution_count": null,
   "metadata": {},
   "outputs": [],
   "source": []
  }
 ],
 "metadata": {
  "kernelspec": {
   "display_name": "Python 3",
   "language": "python",
   "name": "python3"
  },
  "language_info": {
   "codemirror_mode": {
    "name": "ipython",
    "version": 3
   },
   "file_extension": ".py",
   "mimetype": "text/x-python",
   "name": "python",
   "nbconvert_exporter": "python",
   "pygments_lexer": "ipython3",
   "version": "3.7.3"
  }
 },
 "nbformat": 4,
 "nbformat_minor": 2
}
